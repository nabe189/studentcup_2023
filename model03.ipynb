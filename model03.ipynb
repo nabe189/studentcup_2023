{
 "cells": [
  {
   "cell_type": "code",
   "execution_count": null,
   "metadata": {},
   "outputs": [],
   "source": [
    "import pandas as pd\n",
    "import numpy as np\n",
    "import matplotlib.pyplot as plt\n",
    "import re\n",
    "\n",
    "import unicodedata\n",
    "\n",
    "import numpy as np\n",
    "import lightgbm as lgb\n",
    "from sklearn.model_selection import KFold\n",
    "from sklearn.metrics import mean_absolute_percentage_error\n",
    "\n",
    "import tensorflow as tf\n",
    "from tensorflow.keras.callbacks import EarlyStopping"
   ]
  },
  {
   "cell_type": "code",
   "execution_count": null,
   "metadata": {},
   "outputs": [],
   "source": [
    "train = pd.read_csv('data/train.csv', index_col=0)\n",
    "test = pd.read_csv('data/test.csv', index_col=0)"
   ]
  },
  {
   "cell_type": "markdown",
   "metadata": {},
   "source": [
    "- categoryは全部one-hotで表現\n",
    "- yaerで2030年以降のものがある\n",
    "    - おそらくタイポ\n",
    "    - -1000してあげるのが良い\n",
    "    - lightgbm使うのでその他の処理は行わない\n",
    "- conditionは1~6で評価\n",
    "- odometer\n",
    "    - 絶対値を取る\n",
    "    - 1はnullにしてあげる(元々odometer=1のデータはない)\n",
    "    - 1e6を超える場合は10で割る\n",
    "- cylinders, transmission, typeのotherはnullにする"
   ]
  },
  {
   "cell_type": "code",
   "execution_count": null,
   "metadata": {},
   "outputs": [],
   "source": [
    "def preprocess(df):\n",
    "    #year\n",
    "    df.loc[((df['year']>2030) & (df['year']<3000)) | (df['year']>=3000), 'year'] -= 1000\n",
    "\n",
    "    #condition\n",
    "    condition_dict = {'excellent':4, 'fair':2, 'good':3, 'like new':5, 'salvage':1, 'new':6}\n",
    "    df['condition'] = df['condition'].apply(lambda x: condition_dict[x])\n",
    "\n",
    "    #odometer\n",
    "    def set_odometer(x):\n",
    "        x = abs(x)\n",
    "        if x==1:\n",
    "            return None\n",
    "        if x>1e6:\n",
    "            x = x//10\n",
    "        return x\n",
    "    df['odometer'] = [set_odometer(x) for x in df['odometer'].values]\n",
    "\n",
    "    #size\n",
    "    size_dict = {'mid-size':3, 'full-size':4, 'sub-compact':1, 'compact':2}\n",
    "    df['size'] = [size_dict[unicodedata.normalize('NFKC', x).lower().replace('ー', '-').replace('−', '-')] if type(x)==str else None for x in df['size'].values]\n",
    "\n",
    "    #categorical data\n",
    "    categoly_calumns = ['region', 'manufacturer', 'cylinders', 'fuel', 'title_status', 'transmission', 'drive', 'type', 'paint_color', 'state']\n",
    "    for cat in categoly_calumns:\n",
    "        df[cat] = [unicodedata.normalize('NFKC', x).lower() if type(x)==str else None for x in df[cat].values]\n",
    "\n",
    "    #otherをnullにする\n",
    "    for cat in ['cylinders', 'transmission', 'type']:\n",
    "        df[cat] = [x if x!='other' else None for x in df[cat].values]\n",
    "\n",
    "    df = pd.get_dummies(df, columns=categoly_calumns) #one-hot vectorize\n",
    "\n",
    "    df['odometer'] = df['odometer'].fillna(df['odometer'].mean())\n",
    "    \n",
    "    for cat in df.columns:\n",
    "        if len(df[df[cat].isnull()]) == 0:\n",
    "            df[cat] = df[cat].astype(int) \n",
    "    return df"
   ]
  },
  {
   "cell_type": "code",
   "execution_count": null,
   "metadata": {},
   "outputs": [],
   "source": [
    "df = pd.concat([train, test], ignore_index=True).drop(['price'], axis=1)\n",
    "df_processed = preprocess(df)\n",
    "df_processed.head()"
   ]
  },
  {
   "cell_type": "code",
   "execution_count": null,
   "metadata": {},
   "outputs": [],
   "source": [
    "X = df_processed[:len(train)].values\n",
    "y = train['price'].values\n",
    "X_test = df_processed[len(train):].values\n",
    "\n",
    "features = df_processed.columns"
   ]
  },
  {
   "cell_type": "code",
   "execution_count": null,
   "metadata": {},
   "outputs": [],
   "source": [
    "n_splits = 4\n",
    "random_state = 42\n",
    "\n",
    "folds = KFold(n_splits=n_splits, shuffle=True, random_state=random_state)\n",
    "oof = np.zeros(len(train))\n",
    "predictions = np.zeros(len(test))\n",
    "\n",
    "for fold_, (trn_idx, val_idx) in enumerate(folds.split(X, y)):\n",
    "    print(\"Fold {}\".format(fold_+1))\n",
    "    X_train, X_valid = X[trn_idx], X[val_idx]\n",
    "    y_train, y_valid = y[trn_idx], y[val_idx]\n",
    "    \n",
    "    # モデルの構築\n",
    "    tf.random.set_seed(42)\n",
    "    model = tf.keras.Sequential([\n",
    "        tf.keras.layers.Dense(1024, activation='relu', input_shape=(X.shape[1],)),\n",
    "        tf.keras.layers.Dense(512, activation='relu', input_shape=(1024,)),\n",
    "        # tf.keras.layers.Dropout(0.1),\n",
    "        tf.keras.layers.Dense(256, activation='relu', input_shape=(512,)),\n",
    "        tf.keras.layers.Dense(128, activation='relu', input_shape=(256,)),\n",
    "        tf.keras.layers.Dense(128, activation='relu', input_shape=(128,)),\n",
    "        tf.keras.layers.Dense(64, activation='relu', input_shape=(128,)),\n",
    "        tf.keras.layers.Dense(16, activation='relu', input_shape=(64,)),\n",
    "        tf.keras.layers.Dense(1)\n",
    "    ])\n",
    "    model.compile(optimizer='adam', loss='mean_absolute_percentage_error')\n",
    "    early_stopping = EarlyStopping(monitor='val_loss', patience=50, restore_best_weights=True)\n",
    "    model.fit(X_train, y_train, validation_data=(X_valid, y_valid), epochs=10000, batch_size=32, callbacks=[early_stopping])\n",
    "\n",
    "    oof[val_idx] = model.predict(X_valid).flatten()    \n",
    "    predictions += model.predict(X_test).flatten() / folds.n_splits\n",
    "\n",
    "print(\"CV score: {:<8.5f}\".format(mean_absolute_percentage_error(y, oof)))"
   ]
  },
  {
   "cell_type": "code",
   "execution_count": null,
   "metadata": {},
   "outputs": [],
   "source": [
    "oof_df = train.copy()\n",
    "oof_df['oof'] = oof\n",
    "oof_df.head(5)"
   ]
  },
  {
   "cell_type": "code",
   "execution_count": null,
   "metadata": {},
   "outputs": [],
   "source": [
    "print(mean_absolute_percentage_error(y, oof))\n",
    "plt.scatter(y, oof)"
   ]
  },
  {
   "cell_type": "code",
   "execution_count": null,
   "metadata": {},
   "outputs": [],
   "source": [
    "sub_df = pd.DataFrame({\"id\":test.index})\n",
    "sub_df[\"price\"] = predictions\n",
    "sub_df.to_csv('output/sub003.csv', index=False, header=False)\n",
    "sub_df"
   ]
  }
 ],
 "metadata": {
  "kernelspec": {
   "display_name": ".venv",
   "language": "python",
   "name": "python3"
  },
  "language_info": {
   "codemirror_mode": {
    "name": "ipython",
    "version": 3
   },
   "file_extension": ".py",
   "mimetype": "text/x-python",
   "name": "python",
   "nbconvert_exporter": "python",
   "pygments_lexer": "ipython3",
   "version": "3.11.4"
  },
  "orig_nbformat": 4
 },
 "nbformat": 4,
 "nbformat_minor": 2
}
